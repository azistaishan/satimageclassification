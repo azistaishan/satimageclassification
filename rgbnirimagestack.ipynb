{
 "cells": [
  {
   "cell_type": "code",
   "execution_count": 16,
   "metadata": {},
   "outputs": [],
   "source": [
    "import numpy as np\n",
    "import rasterio as rio\n",
    "from pathlib import Path\n",
    "import glob"
   ]
  },
  {
   "cell_type": "code",
   "execution_count": 17,
   "metadata": {},
   "outputs": [],
   "source": [
    "folder = r\"D:\\Images\\rgbnir_new\""
   ]
  },
  {
   "cell_type": "code",
   "execution_count": 18,
   "metadata": {},
   "outputs": [],
   "source": [
    "lof = glob.glob(f\"{folder}\\*.tif\")"
   ]
  },
  {
   "cell_type": "code",
   "execution_count": 21,
   "metadata": {},
   "outputs": [],
   "source": [
    "lof.sort()"
   ]
  },
  {
   "cell_type": "code",
   "execution_count": null,
   "metadata": {},
   "outputs": [],
   "source": []
  },
  {
   "cell_type": "code",
   "execution_count": null,
   "metadata": {},
   "outputs": [],
   "source": [
    "lof"
   ]
  },
  {
   "cell_type": "code",
   "execution_count": 20,
   "metadata": {},
   "outputs": [
    {
     "data": {
      "text/plain": [
       "30"
      ]
     },
     "execution_count": 20,
     "metadata": {},
     "output_type": "execute_result"
    }
   ],
   "source": [
    "len(lof)"
   ]
  },
  {
   "cell_type": "code",
   "execution_count": 22,
   "metadata": {},
   "outputs": [],
   "source": [
    "def imageStack(fileName, band = 2):\n",
    "    with rio.open(lof[0]) as dst:\n",
    "        shape = dst.read(band).shape\n",
    "        meta = dst.meta\n",
    "        print(dst.read().shape)\n",
    "    empty = np.zeros((len(lof), shape[0], shape[1]))\n",
    "    for i in range(len(lof)):\n",
    "        with rio.open(lof[i]) as dst:\n",
    "            empty[i] = dst.read(band)\n",
    "    meta.update(count=len(lof)) \n",
    "    with rio.open(fileName, 'w', **meta) as dst:\n",
    "        dst.write(empty)\n",
    "    return empty.shape\n"
   ]
  },
  {
   "cell_type": "code",
   "execution_count": 29,
   "metadata": {},
   "outputs": [
    {
     "name": "stdout",
     "output_type": "stream",
     "text": [
      "(4, 1073, 1080)\n"
     ]
    },
    {
     "data": {
      "text/plain": [
       "(30, 1073, 1080)"
      ]
     },
     "execution_count": 29,
     "metadata": {},
     "output_type": "execute_result"
    }
   ],
   "source": [
    "imageStack(fileName=r\"D:\\Images\\rgbnir_new_stacks\\band2.tif\", band=2)"
   ]
  },
  {
   "cell_type": "code",
   "execution_count": 30,
   "metadata": {},
   "outputs": [
    {
     "name": "stdout",
     "output_type": "stream",
     "text": [
      "(4, 1073, 1080)\n"
     ]
    },
    {
     "data": {
      "text/plain": [
       "(30, 1073, 1080)"
      ]
     },
     "execution_count": 30,
     "metadata": {},
     "output_type": "execute_result"
    }
   ],
   "source": [
    "imageStack(fileName=r\"D:\\Images\\rgbnir_new_stacks\\band3.tif\", band=3)"
   ]
  },
  {
   "cell_type": "code",
   "execution_count": 31,
   "metadata": {},
   "outputs": [
    {
     "name": "stdout",
     "output_type": "stream",
     "text": [
      "(4, 1073, 1080)\n"
     ]
    },
    {
     "data": {
      "text/plain": [
       "(30, 1073, 1080)"
      ]
     },
     "execution_count": 31,
     "metadata": {},
     "output_type": "execute_result"
    }
   ],
   "source": [
    "imageStack(fileName=r\"D:\\Images\\rgbnir_new_stacks\\band4.tif\", band=4)"
   ]
  },
  {
   "cell_type": "code",
   "execution_count": 33,
   "metadata": {},
   "outputs": [
    {
     "name": "stdout",
     "output_type": "stream",
     "text": [
      "(4, 1073, 1080)\n"
     ]
    },
    {
     "data": {
      "text/plain": [
       "(30, 1073, 1080)"
      ]
     },
     "execution_count": 33,
     "metadata": {},
     "output_type": "execute_result"
    }
   ],
   "source": [
    "imageStack(fileName=r\"D:\\Images\\rgbnir_new_stacks\\band1.tif\", band=1)"
   ]
  },
  {
   "cell_type": "code",
   "execution_count": 23,
   "metadata": {},
   "outputs": [],
   "source": [
    "clusterFile = r\"D:\\Ishan\\imageProcessing\\TestData\\clusterOut\\cluster1.tif\""
   ]
  },
  {
   "cell_type": "code",
   "execution_count": 24,
   "metadata": {},
   "outputs": [],
   "source": [
    "from plotGraps import getGraphs"
   ]
  },
  {
   "cell_type": "code",
   "execution_count": 25,
   "metadata": {},
   "outputs": [],
   "source": [
    "gph = getGraphs()"
   ]
  },
  {
   "cell_type": "code",
   "execution_count": 26,
   "metadata": {},
   "outputs": [],
   "source": [
    "datefpath = r\"D:\\Ishan\\imageProcessing\\TestData\\dates2.txt\"\n",
    "imgfpath = r\"D:\\Images\\rgbnir_new_stacks\\blue.tif\"\n"
   ]
  },
  {
   "cell_type": "code",
   "execution_count": 38,
   "metadata": {},
   "outputs": [
    {
     "name": "stdout",
     "output_type": "stream",
     "text": [
      "\u001b[1;31mSignature:\u001b[0m \u001b[0mgph\u001b[0m\u001b[1;33m.\u001b[0m\u001b[0mloadFiles\u001b[0m\u001b[1;33m(\u001b[0m\u001b[0mdateFpath\u001b[0m\u001b[1;33m=\u001b[0m\u001b[1;32mNone\u001b[0m\u001b[1;33m,\u001b[0m \u001b[0mimgFpath\u001b[0m\u001b[1;33m=\u001b[0m\u001b[1;32mNone\u001b[0m\u001b[1;33m,\u001b[0m \u001b[0mclusterImgFpath\u001b[0m\u001b[1;33m=\u001b[0m\u001b[1;32mNone\u001b[0m\u001b[1;33m)\u001b[0m\u001b[1;33m\u001b[0m\u001b[1;33m\u001b[0m\u001b[0m\n",
      "\u001b[1;31mDocstring:\u001b[0m <no docstring>\n",
      "\u001b[1;31mFile:\u001b[0m      d:\\ishan\\imageprocessing\\plotgraps.py\n",
      "\u001b[1;31mType:\u001b[0m      method"
     ]
    }
   ],
   "source": [
    "gph.loadFiles?"
   ]
  },
  {
   "cell_type": "code",
   "execution_count": 27,
   "metadata": {},
   "outputs": [
    {
     "ename": "NameError",
     "evalue": "name 'clusterFpath' is not defined",
     "output_type": "error",
     "traceback": [
      "\u001b[1;31m---------------------------------------------------------------------------\u001b[0m",
      "\u001b[1;31mNameError\u001b[0m                                 Traceback (most recent call last)",
      "Cell \u001b[1;32mIn[27], line 1\u001b[0m\n\u001b[1;32m----> 1\u001b[0m gph\u001b[39m.\u001b[39;49mloadFiles(dateFpath\u001b[39m=\u001b[39;49mdatefpath, imgFpath\u001b[39m=\u001b[39;49mimgfpath, clusterImgFpath\u001b[39m=\u001b[39;49mclusterFile)\n",
      "File \u001b[1;32md:\\Ishan\\imageProcessing\\plotGraps.py:26\u001b[0m, in \u001b[0;36mgetGraphs.loadFiles\u001b[1;34m(self, dateFpath, imgFpath, clusterImgFpath)\u001b[0m\n\u001b[0;32m     24\u001b[0m     \u001b[39mself\u001b[39m\u001b[39m.\u001b[39mclusterFpath \u001b[39m=\u001b[39m \u001b[39minput\u001b[39m(\u001b[39mr\u001b[39m\u001b[39m\"\u001b[39m\u001b[39mCluster image to select pixels: \u001b[39m\u001b[39m\"\u001b[39m)\n\u001b[0;32m     25\u001b[0m \u001b[39melse\u001b[39;00m: \u001b[39mself\u001b[39m\u001b[39m.\u001b[39mclusterFpath \u001b[39m=\u001b[39m clusterImgFpath\n\u001b[1;32m---> 26\u001b[0m \u001b[39mwith\u001b[39;00m rio\u001b[39m.\u001b[39mopen(clusterFpath) \u001b[39mas\u001b[39;00m dst:\n\u001b[0;32m     27\u001b[0m     \u001b[39mself\u001b[39m\u001b[39m.\u001b[39mclusterImg \u001b[39m=\u001b[39m dst\u001b[39m.\u001b[39mread(\u001b[39m1\u001b[39m)\n\u001b[0;32m     28\u001b[0m     \u001b[39mself\u001b[39m\u001b[39m.\u001b[39mcMeta \u001b[39m=\u001b[39m dst\u001b[39m.\u001b[39mmeta\n",
      "\u001b[1;31mNameError\u001b[0m: name 'clusterFpath' is not defined"
     ]
    },
    {
     "ename": "",
     "evalue": "",
     "output_type": "error",
     "traceback": [
      "\u001b[1;31mThe Kernel crashed while executing code in the the current cell or a previous cell. Please review the code in the cell(s) to identify a possible cause of the failure. Click <a href='https://aka.ms/vscodeJupyterKernelCrash'>here</a> for more info. View Jupyter <a href='command:jupyter.viewOutput'>log</a> for further details."
     ]
    }
   ],
   "source": [
    "gph.loadFiles(dateFpath=datefpath, imgFpath=imgfpath, clusterImgFpath=clusterFile)"
   ]
  },
  {
   "cell_type": "code",
   "execution_count": null,
   "metadata": {},
   "outputs": [],
   "source": []
  }
 ],
 "metadata": {
  "kernelspec": {
   "display_name": "Python 3",
   "language": "python",
   "name": "python3"
  },
  "language_info": {
   "codemirror_mode": {
    "name": "ipython",
    "version": 3
   },
   "file_extension": ".py",
   "mimetype": "text/x-python",
   "name": "python",
   "nbconvert_exporter": "python",
   "pygments_lexer": "ipython3",
   "version": "3.11.6"
  },
  "orig_nbformat": 4
 },
 "nbformat": 4,
 "nbformat_minor": 2
}
