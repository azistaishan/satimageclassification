{
 "cells": [
  {
   "cell_type": "code",
   "execution_count": 26,
   "metadata": {},
   "outputs": [],
   "source": [
    "import rasterio as rio\n",
    "from pathlib import Path\n",
    "import numpy as np"
   ]
  },
  {
   "cell_type": "code",
   "execution_count": 86,
   "metadata": {},
   "outputs": [],
   "source": [
    "folderName = r\"D:\\NewImage\\T44QLF\\S2A_MSIL1C_20231010T050721_N0509_R019_T44QLF_20231010T065627\\S2A_MSIL1C_20231010T050721_N0509_R019_T44QLF_20231010T065627.SAFE\\GRANULE\\L1C_T44QLF_A043345_20231010T051635\\IMG_DATA\"\n",
    "# folderName = r\"D:\\NewImage\\T44QLF\\S2A_MSIL2A_20231010T050721_N0509_R019_T44QLF_20231010T091100\\S2A_MSIL2A_20231010T050721_N0509_R019_T44QLF_20231010T091100.SAFE\\GRANULE\\L2A_T44QLF_A043345_20231010T051635\\IMG_DATA\\R10m\"\n",
    "# folderName = r\"D:\\NewImage\\T44QLF\\S2B_MSIL1C_20231005T050649_N0509_R019_T44QLF_20231005T072410\\S2B_MSIL1C_20231005T050649_N0509_R019_T44QLF_20231005T072410.SAFE\\GRANULE\\L1C_T44QLF_A034365_20231005T051842\\IMG_DATA\"\n",
    "# folderName = r\"D:\\NewImage\\T44QLF\\S2B_MSIL2A_20231005T050649_N0509_R019_T44QLF_20231005T082213\\S2B_MSIL2A_20231005T050649_N0509_R019_T44QLF_20231005T082213.SAFE\\GRANULE\\L2A_T44QLF_A034365_20231005T051842\\IMG_DATA\\R10m\"\n",
    "\n",
    "fname2 = r\"T44QLF_20231010T050721_B02.jp2\"\n",
    "fname3 = r\"T44QLF_20231010T050721_B03.jp2\"\n",
    "fname4 = r\"T44QLF_20231010T050721_B04.jp2\"\n",
    "fname8 = r\"T44QLF_20231010T050721_B08.jp2\"\n"
   ]
  },
  {
   "cell_type": "code",
   "execution_count": 87,
   "metadata": {},
   "outputs": [],
   "source": [
    "def getImage(fname):\n",
    "    with rio.open(fname) as dst:\n",
    "        image = dst.read(1)\n",
    "        meta = dst.meta\n",
    "    return image, meta"
   ]
  },
  {
   "cell_type": "code",
   "execution_count": 88,
   "metadata": {},
   "outputs": [],
   "source": [
    "im2, _ = getImage(Path(folderName, fname2))"
   ]
  },
  {
   "cell_type": "code",
   "execution_count": 89,
   "metadata": {},
   "outputs": [],
   "source": [
    "im3, _ = getImage(Path(folderName, fname3))"
   ]
  },
  {
   "cell_type": "code",
   "execution_count": 90,
   "metadata": {},
   "outputs": [],
   "source": [
    "im4, _ = getImage(Path(folderName, fname4))"
   ]
  },
  {
   "cell_type": "code",
   "execution_count": 91,
   "metadata": {},
   "outputs": [],
   "source": [
    "im8, _ = getImage(Path(folderName, fname8))"
   ]
  },
  {
   "cell_type": "code",
   "execution_count": 92,
   "metadata": {},
   "outputs": [],
   "source": [
    "_,meta = getImage(Path(folderName, fname8))"
   ]
  },
  {
   "cell_type": "code",
   "execution_count": 93,
   "metadata": {},
   "outputs": [],
   "source": [
    "meta.update(driver='GTiff')\n",
    "meta.update(count = 4)"
   ]
  },
  {
   "cell_type": "code",
   "execution_count": 94,
   "metadata": {},
   "outputs": [],
   "source": [
    "outFolder = r\"D:\\NewImage\\T44QLF\\OutputFiles\"\n",
    "outfname = r\"T44QLF_20231010T050721.tif\""
   ]
  },
  {
   "cell_type": "code",
   "execution_count": 95,
   "metadata": {},
   "outputs": [],
   "source": [
    "with rio.open(Path(outFolder, outfname), 'w', **meta) as dst:\n",
    "    dst.write(im2, 1)\n",
    "    dst.write(im3, 2)\n",
    "    dst.write(im4, 3)\n",
    "    dst.write(im8, 4)"
   ]
  },
  {
   "cell_type": "code",
   "execution_count": null,
   "metadata": {},
   "outputs": [],
   "source": []
  }
 ],
 "metadata": {
  "kernelspec": {
   "display_name": "Python 3",
   "language": "python",
   "name": "python3"
  },
  "language_info": {
   "codemirror_mode": {
    "name": "ipython",
    "version": 3
   },
   "file_extension": ".py",
   "mimetype": "text/x-python",
   "name": "python",
   "nbconvert_exporter": "python",
   "pygments_lexer": "ipython3",
   "version": "3.11.6"
  },
  "orig_nbformat": 4
 },
 "nbformat": 4,
 "nbformat_minor": 2
}
